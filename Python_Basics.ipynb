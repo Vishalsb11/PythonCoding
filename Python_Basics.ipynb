{
  "nbformat": 4,
  "nbformat_minor": 0,
  "metadata": {
    "colab": {
      "provenance": [],
      "authorship_tag": "ABX9TyP85GSvCiqRb18mcEEvgMnI",
      "include_colab_link": true
    },
    "kernelspec": {
      "name": "python3",
      "display_name": "Python 3"
    },
    "language_info": {
      "name": "python"
    }
  },
  "cells": [
    {
      "cell_type": "markdown",
      "metadata": {
        "id": "view-in-github",
        "colab_type": "text"
      },
      "source": [
        "<a href=\"https://colab.research.google.com/github/Vishalsb11/PythonCoding/blob/main/Python_Basics.ipynb\" target=\"_parent\"><img src=\"https://colab.research.google.com/assets/colab-badge.svg\" alt=\"Open In Colab\"/></a>"
      ]
    },
    {
      "cell_type": "markdown",
      "source": [
        "DIFFERENT WAYS TO REVERSE A STRING"
      ],
      "metadata": {
        "id": "DU5WrRmgUhMz"
      }
    },
    {
      "cell_type": "markdown",
      "source": [
        "TYPE 1 : Using Slicing"
      ],
      "metadata": {
        "id": "vWmXfJBEUvXg"
      }
    },
    {
      "cell_type": "code",
      "source": [
        "def str_reverse_slicing(str):\n",
        "  return str[::-1]\n",
        "\n",
        "_str = \"Hello, World!\"\n",
        "reversed_str = reverse_slicing(_str)\n",
        "print(reversed_str)\n",
        "\n"
      ],
      "metadata": {
        "id": "o5Ei5pwucyzu",
        "colab": {
          "base_uri": "https://localhost:8080/"
        },
        "outputId": "5b47be7a-5be2-4dfe-e7ee-40ebb1bd6c38"
      },
      "execution_count": 1,
      "outputs": [
        {
          "output_type": "stream",
          "name": "stdout",
          "text": [
            "!dlroW ,olleH\n"
          ]
        }
      ]
    },
    {
      "cell_type": "markdown",
      "source": [
        "TYPE 2 : Using a Loop"
      ],
      "metadata": {
        "id": "eiBl_wRCXxM_"
      }
    },
    {
      "cell_type": "code",
      "source": [
        "def str_reverse_loop(str):\n",
        "    reversed_str = \"\"\n",
        "    for char in str:\n",
        "        reversed_str = char + reversed_str\n",
        "    return reversed_str\n",
        "\n",
        "# Example usage:\n",
        "_str = \"Hello, World!\"\n",
        "reversed_str = str_reverse_loop(_str)\n",
        "print(reversed_str)"
      ],
      "metadata": {
        "id": "Xw_BQcxsfsBd",
        "colab": {
          "base_uri": "https://localhost:8080/"
        },
        "outputId": "836c8199-8b96-4f7a-c5f8-a3ae5f73195d"
      },
      "execution_count": 5,
      "outputs": [
        {
          "output_type": "stream",
          "name": "stdout",
          "text": [
            "!dlroW ,olleH\n"
          ]
        }
      ]
    },
    {
      "cell_type": "markdown",
      "source": [
        "TYPE 3 : Using Reversed Function"
      ],
      "metadata": {
        "id": "alr3-EuEZJAk"
      }
    },
    {
      "cell_type": "code",
      "source": [
        "def str_reverse_function(_str):\n",
        "    return ''.join(reversed(_str))\n",
        "\n",
        "# Example usage:\n",
        "str = \"Hello, World!\"\n",
        "reversed_str = str_reverse_function(str)\n",
        "print(reversed_str)"
      ],
      "metadata": {
        "colab": {
          "base_uri": "https://localhost:8080/"
        },
        "id": "f9YBUJwtZRsb",
        "outputId": "71af621c-f76e-40df-e487-659d6004158b"
      },
      "execution_count": 6,
      "outputs": [
        {
          "output_type": "stream",
          "name": "stdout",
          "text": [
            "!dlroW ,olleH\n"
          ]
        }
      ]
    },
    {
      "cell_type": "markdown",
      "source": [
        "TYPE 4 : Using Join() and Reversed()\n"
      ],
      "metadata": {
        "id": "IxbOzy5vZmdI"
      }
    },
    {
      "cell_type": "code",
      "source": [],
      "metadata": {
        "id": "PJj2WQLuZlCP"
      },
      "execution_count": null,
      "outputs": []
    },
    {
      "cell_type": "markdown",
      "source": [
        "TYPE 5: Using RECURSIVE()\n",
        "\n"
      ],
      "metadata": {
        "id": "g_aODiubaMQo"
      }
    },
    {
      "cell_type": "code",
      "source": [
        "def reverse_string(string):\n",
        "  if len(string) <= 1:\n",
        "    return string\n",
        "  else:\n",
        "    return reverse_string(string[1:]) + string[0]\n",
        "\n",
        "string = \"Hello, World!\"\n",
        "reversed_string = reverse_string(string)\n",
        "print(reversed_string)"
      ],
      "metadata": {
        "colab": {
          "base_uri": "https://localhost:8080/"
        },
        "id": "lssNYrmkaMr8",
        "outputId": "15d711af-e546-41c8-c203-249caaa9e4bd"
      },
      "execution_count": 11,
      "outputs": [
        {
          "output_type": "stream",
          "name": "stdout",
          "text": [
            "H\n"
          ]
        }
      ]
    },
    {
      "cell_type": "markdown",
      "source": [],
      "metadata": {
        "id": "ZjgJY98uZldm"
      }
    }
  ]
}